{
  "nbformat": 4,
  "nbformat_minor": 0,
  "metadata": {
    "colab": {
      "provenance": [],
      "authorship_tag": "ABX9TyO57pylUvQAOrriR2Q6kuxV",
      "include_colab_link": true
    },
    "kernelspec": {
      "name": "python3",
      "display_name": "Python 3"
    },
    "language_info": {
      "name": "python"
    }
  },
  "cells": [
    {
      "cell_type": "markdown",
      "metadata": {
        "id": "view-in-github",
        "colab_type": "text"
      },
      "source": [
        "<a href=\"https://colab.research.google.com/github/dragondscv/colab/blob/main/quickstart_for_beginners.ipynb\" target=\"_parent\"><img src=\"https://colab.research.google.com/assets/colab-badge.svg\" alt=\"Open In Colab\"/></a>"
      ]
    },
    {
      "cell_type": "code",
      "execution_count": null,
      "metadata": {
        "colab": {
          "base_uri": "https://localhost:8080/"
        },
        "id": "-XFVWEjzCz_T",
        "outputId": "0d461ff4-4927-490f-ab83-031298e87f54"
      },
      "outputs": [
        {
          "output_type": "stream",
          "name": "stdout",
          "text": [
            "Epoch 1/5\n",
            "1875/1875 [==============================] - 7s 3ms/step - loss: 0.2954 - accuracy: 0.9145\n",
            "Epoch 2/5\n",
            "1875/1875 [==============================] - 6s 3ms/step - loss: 0.1426 - accuracy: 0.9576\n",
            "Epoch 3/5\n",
            "1875/1875 [==============================] - 7s 3ms/step - loss: 0.1093 - accuracy: 0.9664\n",
            "Epoch 4/5\n",
            "1875/1875 [==============================] - 6s 3ms/step - loss: 0.0881 - accuracy: 0.9729\n",
            "Epoch 5/5\n",
            "1875/1875 [==============================] - 7s 4ms/step - loss: 0.0759 - accuracy: 0.9760\n",
            "313/313 - 0s - loss: 0.0764 - accuracy: 0.9767 - 484ms/epoch - 2ms/step\n"
          ]
        },
        {
          "output_type": "execute_result",
          "data": {
            "text/plain": [
              "<tf.Tensor: shape=(5, 10), dtype=float32, numpy=\n",
              "array([[4.42802914e-08, 2.76598255e-09, 1.80098823e-06, 3.26816626e-05,\n",
              "        5.39562665e-11, 9.52433794e-08, 1.05461504e-13, 9.99955893e-01,\n",
              "        1.56091261e-07, 9.37858294e-06],\n",
              "       [4.20753317e-08, 4.31417808e-04, 9.99346435e-01, 1.73045948e-04,\n",
              "        8.80698205e-12, 1.03599177e-05, 2.07884057e-07, 4.41934710e-13,\n",
              "        3.85298517e-05, 7.12531293e-12],\n",
              "       [1.97714741e-07, 9.99243021e-01, 1.04430539e-04, 2.75538659e-05,\n",
              "        1.07789820e-04, 1.93283213e-05, 6.91918103e-06, 3.85135208e-04,\n",
              "        1.02587306e-04, 3.04251080e-06],\n",
              "       [9.99821484e-01, 1.63801485e-06, 7.28392770e-05, 8.57406349e-07,\n",
              "        1.76522207e-07, 1.20513050e-06, 2.27917167e-06, 8.47730189e-05,\n",
              "        6.89963883e-07, 1.41696810e-05],\n",
              "       [6.30554325e-07, 1.46809243e-09, 1.79304720e-06, 1.09613145e-08,\n",
              "        9.98865843e-01, 1.40323436e-07, 7.24904066e-06, 6.37037447e-05,\n",
              "        4.74857688e-06, 1.05598092e-03]], dtype=float32)>"
            ]
          },
          "metadata": {},
          "execution_count": 7
        }
      ],
      "source": [
        "import tensorflow as tf\n",
        "mnist = tf.keras.datasets.mnist\n",
        "\n",
        "(x_train, y_train), (x_test, y_test) = mnist.load_data()\n",
        "x_train, x_test = x_train / 255.0, x_test / 255.0\n",
        "\n",
        "model = tf.keras.models.Sequential([\n",
        "  tf.keras.layers.Flatten(input_shape=(28, 28)),\n",
        "  tf.keras.layers.Dense(128, activation='relu'),\n",
        "  tf.keras.layers.Dropout(0.2),\n",
        "  tf.keras.layers.Dense(10)\n",
        "])\n",
        "\n",
        "predictions = model(x_train[:1]).numpy()\n",
        "predictions\n",
        "\n",
        "tf.nn.softmax(predictions).numpy()\n",
        "\n",
        "loss_fn = tf.keras.losses.SparseCategoricalCrossentropy(from_logits=True)\n",
        "\n",
        "loss_fn(y_train[:1], predictions).numpy()\n",
        "\n",
        "model.compile(optimizer='adam',\n",
        "              loss=loss_fn,\n",
        "              metrics=['accuracy'])\n",
        "\n",
        "model.fit(x_train, y_train, epochs=5)\n",
        "\n",
        "model.evaluate(x_test,  y_test, verbose=2)\n",
        "\n",
        "probability_model = tf.keras.Sequential([\n",
        "  model,\n",
        "  tf.keras.layers.Softmax()\n",
        "])\n",
        "\n",
        "probability_model(x_test[:5])\n"
      ]
    },
    {
      "cell_type": "code",
      "source": [],
      "metadata": {
        "id": "0KcGZ-VJJ1Qn"
      },
      "execution_count": null,
      "outputs": []
    }
  ]
}